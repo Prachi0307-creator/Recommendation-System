{
 "cells": [
  {
   "cell_type": "markdown",
   "id": "cce47fbf",
   "metadata": {},
   "source": [
    "# News Recommendation System\n"
   ]
  },
  {
   "cell_type": "markdown",
   "id": "2939ff51",
   "metadata": {},
   "source": [
    "The News Article Recommendation System is designed to deliver personalized article suggestions by analyzing the content of news headlines. It leverages natural language processing (NLP) techniques and machine learning algorithms to understand and compare the semantic similarities between different news articles. This allows the system to recommend relevant content that aligns with each user's interests and reading patterns. The primary objective is to enhance the user experience by offering curated recommendations that reflect individual preferences. By capturing the underlying meaning of headlines, the system effectively connects related articles and presents users with a customized selection of content tailored to their interests."
   ]
  },
  {
   "cell_type": "markdown",
   "id": "6b6e55f2",
   "metadata": {},
   "source": [
    "## Importing Necessary Libraries\n"
   ]
  },
  {
   "cell_type": "code",
   "execution_count": 1,
   "id": "353ffd5f",
   "metadata": {},
   "outputs": [],
   "source": [
    "import numpy as np\n",
    "import pandas as pd\n",
    "\n",
    "from sklearn.metrics.pairwise import cosine_similarity\n",
    "import os\n",
    "import math\n",
    "import time\n",
    "\n",
    "import matplotlib.pyplot as plt\n",
    "import seaborn as sns\n",
    "\n",
    "import nltk\n",
    "\n",
    "from nltk.corpus import stopwords\n",
    "from nltk.tokenize import word_tokenize\n",
    "from nltk.stem import WordNetLemmatizer\n",
    "\n",
    "# Below libraries are for feature representation using sklearn\n",
    "from sklearn.feature_extraction.text import CountVectorizer\n",
    "from sklearn.feature_extraction.text import TfidfVectorizer\n",
    "\n",
    "from sklearn.metrics import pairwise_distances"
   ]
  },
  {
   "cell_type": "markdown",
   "id": "c3f4eb1f",
   "metadata": {},
   "source": [
    "## Loading Data"
   ]
  },
  {
   "cell_type": "code",
   "execution_count": 2,
   "id": "9511359c",
   "metadata": {},
   "outputs": [],
   "source": [
    "raw_df = pd.read_json(\"News_Category_Dataset_v2.json\")"
   ]
  },
  {
   "cell_type": "code",
   "execution_count": 3,
   "id": "eeb4f7ee",
   "metadata": {},
   "outputs": [
    {
     "name": "stdout",
     "output_type": "stream",
     "text": [
      "<class 'pandas.core.frame.DataFrame'>\n",
      "RangeIndex: 132 entries, 0 to 131\n",
      "Data columns (total 6 columns):\n",
      " #   Column             Non-Null Count  Dtype         \n",
      "---  ------             --------------  -----         \n",
      " 0   category           132 non-null    object        \n",
      " 1   headline           132 non-null    object        \n",
      " 2   authors            132 non-null    object        \n",
      " 3   link               132 non-null    object        \n",
      " 4   short_description  132 non-null    object        \n",
      " 5   date               132 non-null    datetime64[ns]\n",
      "dtypes: datetime64[ns](1), object(5)\n",
      "memory usage: 6.3+ KB\n"
     ]
    }
   ],
   "source": [
    "raw_df.info()"
   ]
  },
  {
   "cell_type": "code",
   "execution_count": 4,
   "id": "25bf8ee3",
   "metadata": {},
   "outputs": [
    {
     "name": "stderr",
     "output_type": "stream",
     "text": [
      "C:\\Users\\shiva\\AppData\\Local\\Temp\\ipykernel_18324\\2990293585.py:1: FutureWarning: Treating datetime data as categorical rather than numeric in `.describe` is deprecated and will be removed in a future version of pandas. Specify `datetime_is_numeric=True` to silence this warning and adopt the future behavior now.\n",
      "  raw_df.describe()\n"
     ]
    },
    {
     "data": {
      "text/html": [
       "<div>\n",
       "<style scoped>\n",
       "    .dataframe tbody tr th:only-of-type {\n",
       "        vertical-align: middle;\n",
       "    }\n",
       "\n",
       "    .dataframe tbody tr th {\n",
       "        vertical-align: top;\n",
       "    }\n",
       "\n",
       "    .dataframe thead th {\n",
       "        text-align: right;\n",
       "    }\n",
       "</style>\n",
       "<table border=\"1\" class=\"dataframe\">\n",
       "  <thead>\n",
       "    <tr style=\"text-align: right;\">\n",
       "      <th></th>\n",
       "      <th>category</th>\n",
       "      <th>headline</th>\n",
       "      <th>authors</th>\n",
       "      <th>link</th>\n",
       "      <th>short_description</th>\n",
       "      <th>date</th>\n",
       "    </tr>\n",
       "  </thead>\n",
       "  <tbody>\n",
       "    <tr>\n",
       "      <th>count</th>\n",
       "      <td>132</td>\n",
       "      <td>132</td>\n",
       "      <td>132</td>\n",
       "      <td>132</td>\n",
       "      <td>132</td>\n",
       "      <td>132</td>\n",
       "    </tr>\n",
       "    <tr>\n",
       "      <th>unique</th>\n",
       "      <td>16</td>\n",
       "      <td>132</td>\n",
       "      <td>97</td>\n",
       "      <td>105</td>\n",
       "      <td>132</td>\n",
       "      <td>10</td>\n",
       "    </tr>\n",
       "    <tr>\n",
       "      <th>top</th>\n",
       "      <td>CRICKET</td>\n",
       "      <td>Trump Names Billionaire Private Astronaut Jare...</td>\n",
       "      <td>Hindustan Times</td>\n",
       "      <td>https://www.hindustantimes.com/entertainment</td>\n",
       "      <td>Jared Isaacman, known for his ties to Elon Mus...</td>\n",
       "      <td>2024-12-12 00:00:00</td>\n",
       "    </tr>\n",
       "    <tr>\n",
       "      <th>freq</th>\n",
       "      <td>18</td>\n",
       "      <td>1</td>\n",
       "      <td>13</td>\n",
       "      <td>8</td>\n",
       "      <td>1</td>\n",
       "      <td>41</td>\n",
       "    </tr>\n",
       "    <tr>\n",
       "      <th>first</th>\n",
       "      <td>NaN</td>\n",
       "      <td>NaN</td>\n",
       "      <td>NaN</td>\n",
       "      <td>NaN</td>\n",
       "      <td>NaN</td>\n",
       "      <td>2024-12-01 00:00:00</td>\n",
       "    </tr>\n",
       "    <tr>\n",
       "      <th>last</th>\n",
       "      <td>NaN</td>\n",
       "      <td>NaN</td>\n",
       "      <td>NaN</td>\n",
       "      <td>NaN</td>\n",
       "      <td>NaN</td>\n",
       "      <td>2024-12-12 00:00:00</td>\n",
       "    </tr>\n",
       "  </tbody>\n",
       "</table>\n",
       "</div>"
      ],
      "text/plain": [
       "       category                                           headline  \\\n",
       "count       132                                                132   \n",
       "unique       16                                                132   \n",
       "top     CRICKET  Trump Names Billionaire Private Astronaut Jare...   \n",
       "freq         18                                                  1   \n",
       "first       NaN                                                NaN   \n",
       "last        NaN                                                NaN   \n",
       "\n",
       "                authors                                          link  \\\n",
       "count               132                                           132   \n",
       "unique               97                                           105   \n",
       "top     Hindustan Times  https://www.hindustantimes.com/entertainment   \n",
       "freq                 13                                             8   \n",
       "first               NaN                                           NaN   \n",
       "last                NaN                                           NaN   \n",
       "\n",
       "                                        short_description                 date  \n",
       "count                                                 132                  132  \n",
       "unique                                                132                   10  \n",
       "top     Jared Isaacman, known for his ties to Elon Mus...  2024-12-12 00:00:00  \n",
       "freq                                                    1                   41  \n",
       "first                                                 NaN  2024-12-01 00:00:00  \n",
       "last                                                  NaN  2024-12-12 00:00:00  "
      ]
     },
     "execution_count": 4,
     "metadata": {},
     "output_type": "execute_result"
    }
   ],
   "source": [
    "raw_df.describe()"
   ]
  },
  {
   "cell_type": "code",
   "execution_count": 5,
   "id": "20eace57",
   "metadata": {},
   "outputs": [
    {
     "data": {
      "text/plain": [
       "Index(['category', 'headline', 'authors', 'link', 'short_description', 'date'], dtype='object')"
      ]
     },
     "execution_count": 5,
     "metadata": {},
     "output_type": "execute_result"
    }
   ],
   "source": [
    "raw_df.columns.unique()"
   ]
  },
  {
   "cell_type": "code",
   "execution_count": 6,
   "id": "b87eb9e8",
   "metadata": {},
   "outputs": [
    {
     "data": {
      "text/html": [
       "<div>\n",
       "<style scoped>\n",
       "    .dataframe tbody tr th:only-of-type {\n",
       "        vertical-align: middle;\n",
       "    }\n",
       "\n",
       "    .dataframe tbody tr th {\n",
       "        vertical-align: top;\n",
       "    }\n",
       "\n",
       "    .dataframe thead th {\n",
       "        text-align: right;\n",
       "    }\n",
       "</style>\n",
       "<table border=\"1\" class=\"dataframe\">\n",
       "  <thead>\n",
       "    <tr style=\"text-align: right;\">\n",
       "      <th></th>\n",
       "      <th>category</th>\n",
       "      <th>headline</th>\n",
       "      <th>authors</th>\n",
       "      <th>link</th>\n",
       "      <th>short_description</th>\n",
       "      <th>date</th>\n",
       "    </tr>\n",
       "  </thead>\n",
       "  <tbody>\n",
       "    <tr>\n",
       "      <th>0</th>\n",
       "      <td>WORLD NEWS</td>\n",
       "      <td>Trump Names Billionaire Private Astronaut Jare...</td>\n",
       "      <td>Livemint Staff</td>\n",
       "      <td>https://www.livemint.com</td>\n",
       "      <td>Jared Isaacman, known for his ties to Elon Mus...</td>\n",
       "      <td>2024-12-04</td>\n",
       "    </tr>\n",
       "    <tr>\n",
       "      <th>1</th>\n",
       "      <td>US NEWS</td>\n",
       "      <td>South Korean President Faces Impeachment Amid ...</td>\n",
       "      <td>Livemint Staff</td>\n",
       "      <td>https://www.livemint.com</td>\n",
       "      <td>President Yoon Suk Yeol declared martial law f...</td>\n",
       "      <td>2024-12-04</td>\n",
       "    </tr>\n",
       "    <tr>\n",
       "      <th>2</th>\n",
       "      <td>POLITICS</td>\n",
       "      <td>Donald Trump Challenges 34 Felony Counts in Ne...</td>\n",
       "      <td>Hindustan Times Staff</td>\n",
       "      <td>https://www.hindustantimes.com</td>\n",
       "      <td>Trump requested the dismissal of charges linke...</td>\n",
       "      <td>2024-12-04</td>\n",
       "    </tr>\n",
       "    <tr>\n",
       "      <th>3</th>\n",
       "      <td>WORLD NEWS</td>\n",
       "      <td>India Votes for UN Resolution Urging Israel to...</td>\n",
       "      <td>Livemint Staff</td>\n",
       "      <td>https://www.livemint.com</td>\n",
       "      <td>India reaffirmed its support for a two-state s...</td>\n",
       "      <td>2024-12-04</td>\n",
       "    </tr>\n",
       "    <tr>\n",
       "      <th>4</th>\n",
       "      <td>US NEWS</td>\n",
       "      <td>Elon Musk and Vivek Ramaswamy Push to Abolish ...</td>\n",
       "      <td>Hindustan Times Staff</td>\n",
       "      <td>https://www.hindustantimes.com</td>\n",
       "      <td>A public initiative led by Musk and Ramaswamy ...</td>\n",
       "      <td>2024-12-04</td>\n",
       "    </tr>\n",
       "  </tbody>\n",
       "</table>\n",
       "</div>"
      ],
      "text/plain": [
       "     category                                           headline  \\\n",
       "0  WORLD NEWS  Trump Names Billionaire Private Astronaut Jare...   \n",
       "1     US NEWS  South Korean President Faces Impeachment Amid ...   \n",
       "2    POLITICS  Donald Trump Challenges 34 Felony Counts in Ne...   \n",
       "3  WORLD NEWS  India Votes for UN Resolution Urging Israel to...   \n",
       "4     US NEWS  Elon Musk and Vivek Ramaswamy Push to Abolish ...   \n",
       "\n",
       "                 authors                            link  \\\n",
       "0         Livemint Staff        https://www.livemint.com   \n",
       "1         Livemint Staff        https://www.livemint.com   \n",
       "2  Hindustan Times Staff  https://www.hindustantimes.com   \n",
       "3         Livemint Staff        https://www.livemint.com   \n",
       "4  Hindustan Times Staff  https://www.hindustantimes.com   \n",
       "\n",
       "                                   short_description       date  \n",
       "0  Jared Isaacman, known for his ties to Elon Mus... 2024-12-04  \n",
       "1  President Yoon Suk Yeol declared martial law f... 2024-12-04  \n",
       "2  Trump requested the dismissal of charges linke... 2024-12-04  \n",
       "3  India reaffirmed its support for a two-state s... 2024-12-04  \n",
       "4  A public initiative led by Musk and Ramaswamy ... 2024-12-04  "
      ]
     },
     "execution_count": 6,
     "metadata": {},
     "output_type": "execute_result"
    }
   ],
   "source": [
    "raw_df.head()"
   ]
  },
  {
   "cell_type": "code",
   "execution_count": 7,
   "id": "30976d91",
   "metadata": {},
   "outputs": [
    {
     "data": {
      "text/html": [
       "<div>\n",
       "<style scoped>\n",
       "    .dataframe tbody tr th:only-of-type {\n",
       "        vertical-align: middle;\n",
       "    }\n",
       "\n",
       "    .dataframe tbody tr th {\n",
       "        vertical-align: top;\n",
       "    }\n",
       "\n",
       "    .dataframe thead th {\n",
       "        text-align: right;\n",
       "    }\n",
       "</style>\n",
       "<table border=\"1\" class=\"dataframe\">\n",
       "  <thead>\n",
       "    <tr style=\"text-align: right;\">\n",
       "      <th></th>\n",
       "      <th>category</th>\n",
       "      <th>headline</th>\n",
       "      <th>authors</th>\n",
       "      <th>link</th>\n",
       "      <th>short_description</th>\n",
       "      <th>date</th>\n",
       "    </tr>\n",
       "  </thead>\n",
       "  <tbody>\n",
       "    <tr>\n",
       "      <th>127</th>\n",
       "      <td>EDUCATION</td>\n",
       "      <td>CBSE Declares 2024 Exam Results Earlier Than E...</td>\n",
       "      <td>NDTV, Times of India</td>\n",
       "      <td>https://www.ndtv.com/cbse-2024-results-earlier...</td>\n",
       "      <td>CBSE announces early 2024 exam results with im...</td>\n",
       "      <td>2024-12-12</td>\n",
       "    </tr>\n",
       "    <tr>\n",
       "      <th>128</th>\n",
       "      <td>EDUCATION</td>\n",
       "      <td>CBSE Introduces New Curriculum Changes Focused...</td>\n",
       "      <td>Hindustan Times, The Hindu</td>\n",
       "      <td>https://www.hindustantimes.com/cbse-curriculum...</td>\n",
       "      <td>CBSE updates its curriculum to emphasize skill...</td>\n",
       "      <td>2024-12-11</td>\n",
       "    </tr>\n",
       "    <tr>\n",
       "      <th>129</th>\n",
       "      <td>EDUCATION</td>\n",
       "      <td>CBSE Board Exams 2024: Strict Security Measure...</td>\n",
       "      <td>The Indian Express, Times Now</td>\n",
       "      <td>https://www.indianexpress.com/cbse-exam-securi...</td>\n",
       "      <td>CBSE enhances exam security to prevent cheatin...</td>\n",
       "      <td>2024-12-10</td>\n",
       "    </tr>\n",
       "    <tr>\n",
       "      <th>130</th>\n",
       "      <td>EDUCATION</td>\n",
       "      <td>CBSE Releases New Exam Guidelines for Digital ...</td>\n",
       "      <td>Economic Times, Education Times</td>\n",
       "      <td>https://www.economictimes.com/cbse-digital-eva...</td>\n",
       "      <td>CBSE implements digital evaluation systems for...</td>\n",
       "      <td>2024-12-10</td>\n",
       "    </tr>\n",
       "    <tr>\n",
       "      <th>131</th>\n",
       "      <td>EDUCATION</td>\n",
       "      <td>CBSE Launches Online Learning Portal for Reduc...</td>\n",
       "      <td>PTI, The Tribune</td>\n",
       "      <td>https://www.tribuneindia.com/cbse-online-porta...</td>\n",
       "      <td>CBSE introduces an online portal to facilitate...</td>\n",
       "      <td>2024-12-11</td>\n",
       "    </tr>\n",
       "  </tbody>\n",
       "</table>\n",
       "</div>"
      ],
      "text/plain": [
       "      category                                           headline  \\\n",
       "127  EDUCATION  CBSE Declares 2024 Exam Results Earlier Than E...   \n",
       "128  EDUCATION  CBSE Introduces New Curriculum Changes Focused...   \n",
       "129  EDUCATION  CBSE Board Exams 2024: Strict Security Measure...   \n",
       "130  EDUCATION  CBSE Releases New Exam Guidelines for Digital ...   \n",
       "131  EDUCATION  CBSE Launches Online Learning Portal for Reduc...   \n",
       "\n",
       "                             authors  \\\n",
       "127             NDTV, Times of India   \n",
       "128       Hindustan Times, The Hindu   \n",
       "129    The Indian Express, Times Now   \n",
       "130  Economic Times, Education Times   \n",
       "131                 PTI, The Tribune   \n",
       "\n",
       "                                                  link  \\\n",
       "127  https://www.ndtv.com/cbse-2024-results-earlier...   \n",
       "128  https://www.hindustantimes.com/cbse-curriculum...   \n",
       "129  https://www.indianexpress.com/cbse-exam-securi...   \n",
       "130  https://www.economictimes.com/cbse-digital-eva...   \n",
       "131  https://www.tribuneindia.com/cbse-online-porta...   \n",
       "\n",
       "                                     short_description       date  \n",
       "127  CBSE announces early 2024 exam results with im... 2024-12-12  \n",
       "128  CBSE updates its curriculum to emphasize skill... 2024-12-11  \n",
       "129  CBSE enhances exam security to prevent cheatin... 2024-12-10  \n",
       "130  CBSE implements digital evaluation systems for... 2024-12-10  \n",
       "131  CBSE introduces an online portal to facilitate... 2024-12-11  "
      ]
     },
     "execution_count": 7,
     "metadata": {},
     "output_type": "execute_result"
    }
   ],
   "source": [
    "raw_df.tail()"
   ]
  },
  {
   "cell_type": "markdown",
   "id": "c3925475",
   "metadata": {},
   "source": [
    "## Data Preprocessing"
   ]
  },
  {
   "cell_type": "markdown",
   "id": "74a2a77b",
   "metadata": {},
   "source": [
    "#### Fetching only the articles from 2024"
   ]
  },
  {
   "cell_type": "markdown",
   "id": "37e19520",
   "metadata": {},
   "source": [
    "If the dataset size become quite large so processing through entire dataset may consume too much time."
   ]
  },
  {
   "cell_type": "code",
   "execution_count": 8,
   "id": "bb7325bc",
   "metadata": {},
   "outputs": [],
   "source": [
    "start_date = pd.Timestamp(2024, 1, 1)\n",
    "raw_df = raw_df[raw_df['date'] >= start_date]"
   ]
  },
  {
   "cell_type": "code",
   "execution_count": 9,
   "id": "145b3f39",
   "metadata": {},
   "outputs": [
    {
     "data": {
      "text/plain": [
       "(132, 6)"
      ]
     },
     "execution_count": 9,
     "metadata": {},
     "output_type": "execute_result"
    }
   ],
   "source": [
    "raw_df.shape"
   ]
  },
  {
   "cell_type": "code",
   "execution_count": 10,
   "id": "94cfa34d",
   "metadata": {},
   "outputs": [
    {
     "name": "stdout",
     "output_type": "stream",
     "text": [
      "(132, 6)\n"
     ]
    }
   ],
   "source": [
    "# Sort the DataFrame by headline in descending order\n",
    "raw_df.sort_values('headline', inplace=True, ascending=False)\n",
    "\n",
    "# Find duplicate articles based on the 'headline' column\n",
    "duplicate_raw_df = raw_df.duplicated('headline', keep=False)\n",
    "\n",
    "# Remove duplicate articles from the DataFrame\n",
    "raw_df = raw_df[~duplicate_raw_df]\n",
    "\n",
    "# Print the total number of articles after removing duplicates\n",
    "print(raw_df.shape)"
   ]
  },
  {
   "cell_type": "markdown",
   "id": "e5744c3e",
   "metadata": {},
   "source": [
    "#### Checking for null values"
   ]
  },
  {
   "cell_type": "code",
   "execution_count": 11,
   "id": "29524167",
   "metadata": {},
   "outputs": [
    {
     "data": {
      "text/plain": [
       "category             0\n",
       "headline             0\n",
       "authors              0\n",
       "link                 0\n",
       "short_description    0\n",
       "date                 0\n",
       "dtype: int64"
      ]
     },
     "execution_count": 11,
     "metadata": {},
     "output_type": "execute_result"
    }
   ],
   "source": [
    "raw_df.isna().sum()"
   ]
  },
  {
   "cell_type": "code",
   "execution_count": 12,
   "id": "8a33a17e",
   "metadata": {},
   "outputs": [
    {
     "data": {
      "text/html": [
       "<div>\n",
       "<style scoped>\n",
       "    .dataframe tbody tr th:only-of-type {\n",
       "        vertical-align: middle;\n",
       "    }\n",
       "\n",
       "    .dataframe tbody tr th {\n",
       "        vertical-align: top;\n",
       "    }\n",
       "\n",
       "    .dataframe thead th {\n",
       "        text-align: right;\n",
       "    }\n",
       "</style>\n",
       "<table border=\"1\" class=\"dataframe\">\n",
       "  <thead>\n",
       "    <tr style=\"text-align: right;\">\n",
       "      <th></th>\n",
       "      <th>index</th>\n",
       "      <th>category</th>\n",
       "      <th>headline</th>\n",
       "      <th>authors</th>\n",
       "      <th>link</th>\n",
       "      <th>short_description</th>\n",
       "      <th>date</th>\n",
       "    </tr>\n",
       "  </thead>\n",
       "  <tbody>\n",
       "    <tr>\n",
       "      <th>0</th>\n",
       "      <td>51</td>\n",
       "      <td>SPORTS</td>\n",
       "      <td>Yashasvi Jaiswal's Sledge Leaves Nathan Lyon S...</td>\n",
       "      <td>Hindustan Times</td>\n",
       "      <td>https://www.hindustantimes.com/cricket/yashasv...</td>\n",
       "      <td>The young Indian batter made a playful remark ...</td>\n",
       "      <td>2024-12-05</td>\n",
       "    </tr>\n",
       "    <tr>\n",
       "      <th>1</th>\n",
       "      <td>41</td>\n",
       "      <td>CRICKET</td>\n",
       "      <td>Yashasvi Jaiswal's Comment 'Too Slow' May Have...</td>\n",
       "      <td>Ricky Ponting Commentary</td>\n",
       "      <td>https://www.indiatoday.in/sports/cricket/story...</td>\n",
       "      <td>Former captain Ricky Ponting suggested Jaiswal...</td>\n",
       "      <td>2024-12-11</td>\n",
       "    </tr>\n",
       "    <tr>\n",
       "      <th>2</th>\n",
       "      <td>61</td>\n",
       "      <td>EDUCATION</td>\n",
       "      <td>XAT 2025 Exam Records High Registrations</td>\n",
       "      <td>Careers360</td>\n",
       "      <td>https://news.careers360.com</td>\n",
       "      <td>XAT 2025 scheduled for January 5, 2025, with a...</td>\n",
       "      <td>2024-12-12</td>\n",
       "    </tr>\n",
       "    <tr>\n",
       "      <th>3</th>\n",
       "      <td>98</td>\n",
       "      <td>HEALTH</td>\n",
       "      <td>World Health Organization Warns of Rising Case...</td>\n",
       "      <td>WHO, Reuters Health</td>\n",
       "      <td>https://www.who.int/news/item/12-12-2024-obesi...</td>\n",
       "      <td>The WHO reports a global rise in obesity rates...</td>\n",
       "      <td>2024-12-12</td>\n",
       "    </tr>\n",
       "    <tr>\n",
       "      <th>4</th>\n",
       "      <td>105</td>\n",
       "      <td>COVID</td>\n",
       "      <td>WHO Recommends Updated COVID-19 Vaccines Targe...</td>\n",
       "      <td>WHO, Bloomberg</td>\n",
       "      <td>https://www.bloomberg.com/news/articles/12-10-...</td>\n",
       "      <td>The WHO advises the use of updated COVID-19 va...</td>\n",
       "      <td>2024-12-10</td>\n",
       "    </tr>\n",
       "    <tr>\n",
       "      <th>...</th>\n",
       "      <td>...</td>\n",
       "      <td>...</td>\n",
       "      <td>...</td>\n",
       "      <td>...</td>\n",
       "      <td>...</td>\n",
       "      <td>...</td>\n",
       "      <td>...</td>\n",
       "    </tr>\n",
       "    <tr>\n",
       "      <th>127</th>\n",
       "      <td>123</td>\n",
       "      <td>EDUCATION</td>\n",
       "      <td>Aktu Admissions 2024: Increased Applications i...</td>\n",
       "      <td>The Hindu, Aktu Admissions Office</td>\n",
       "      <td>https://www.thehindu.com/aktu-admissions-2024-...</td>\n",
       "      <td>Aktu sees a surge in applications for engineer...</td>\n",
       "      <td>2024-12-11</td>\n",
       "    </tr>\n",
       "    <tr>\n",
       "      <th>128</th>\n",
       "      <td>8</td>\n",
       "      <td>TECHNOLOGY</td>\n",
       "      <td>Affordable Rivals Challenge Apple's Vision Pro...</td>\n",
       "      <td>TechRadar Staff</td>\n",
       "      <td>https://www.techradar.com</td>\n",
       "      <td>Xreal and Asus launch cost-effective AR/VR dev...</td>\n",
       "      <td>2024-12-06</td>\n",
       "    </tr>\n",
       "    <tr>\n",
       "      <th>129</th>\n",
       "      <td>13</td>\n",
       "      <td>ENTERTAINMENT</td>\n",
       "      <td>AI-Generated Movie Trailer Wins Prestigious Fi...</td>\n",
       "      <td>Hollywood Insider</td>\n",
       "      <td>https://www.hollywoodinsider.com</td>\n",
       "      <td>The use of AI in entertainment reaches new hei...</td>\n",
       "      <td>2024-12-06</td>\n",
       "    </tr>\n",
       "    <tr>\n",
       "      <th>130</th>\n",
       "      <td>19</td>\n",
       "      <td>TECHNOLOGY</td>\n",
       "      <td>AI Breakthrough in Creative Problem-Solving</td>\n",
       "      <td>Tech Innovators</td>\n",
       "      <td>https://www.technologyreview.com</td>\n",
       "      <td>An AI system achieves top 1% performance in cr...</td>\n",
       "      <td>2024-12-11</td>\n",
       "    </tr>\n",
       "    <tr>\n",
       "      <th>131</th>\n",
       "      <td>39</td>\n",
       "      <td>ENTERTAINMENT</td>\n",
       "      <td>AC/DC Announces First North American Stadium T...</td>\n",
       "      <td>Hindustan Times Entertainment Desk</td>\n",
       "      <td>https://www.hindustantimes.com/entertainment</td>\n",
       "      <td>AC/DC reveals tour dates for a much-anticipate...</td>\n",
       "      <td>2024-12-02</td>\n",
       "    </tr>\n",
       "  </tbody>\n",
       "</table>\n",
       "<p>132 rows × 7 columns</p>\n",
       "</div>"
      ],
      "text/plain": [
       "     index       category                                           headline  \\\n",
       "0       51         SPORTS  Yashasvi Jaiswal's Sledge Leaves Nathan Lyon S...   \n",
       "1       41        CRICKET  Yashasvi Jaiswal's Comment 'Too Slow' May Have...   \n",
       "2       61      EDUCATION           XAT 2025 Exam Records High Registrations   \n",
       "3       98         HEALTH  World Health Organization Warns of Rising Case...   \n",
       "4      105          COVID  WHO Recommends Updated COVID-19 Vaccines Targe...   \n",
       "..     ...            ...                                                ...   \n",
       "127    123      EDUCATION  Aktu Admissions 2024: Increased Applications i...   \n",
       "128      8     TECHNOLOGY  Affordable Rivals Challenge Apple's Vision Pro...   \n",
       "129     13  ENTERTAINMENT  AI-Generated Movie Trailer Wins Prestigious Fi...   \n",
       "130     19     TECHNOLOGY        AI Breakthrough in Creative Problem-Solving   \n",
       "131     39  ENTERTAINMENT  AC/DC Announces First North American Stadium T...   \n",
       "\n",
       "                                authors  \\\n",
       "0                       Hindustan Times   \n",
       "1              Ricky Ponting Commentary   \n",
       "2                            Careers360   \n",
       "3                   WHO, Reuters Health   \n",
       "4                        WHO, Bloomberg   \n",
       "..                                  ...   \n",
       "127   The Hindu, Aktu Admissions Office   \n",
       "128                     TechRadar Staff   \n",
       "129                   Hollywood Insider   \n",
       "130                     Tech Innovators   \n",
       "131  Hindustan Times Entertainment Desk   \n",
       "\n",
       "                                                  link  \\\n",
       "0    https://www.hindustantimes.com/cricket/yashasv...   \n",
       "1    https://www.indiatoday.in/sports/cricket/story...   \n",
       "2                          https://news.careers360.com   \n",
       "3    https://www.who.int/news/item/12-12-2024-obesi...   \n",
       "4    https://www.bloomberg.com/news/articles/12-10-...   \n",
       "..                                                 ...   \n",
       "127  https://www.thehindu.com/aktu-admissions-2024-...   \n",
       "128                          https://www.techradar.com   \n",
       "129                   https://www.hollywoodinsider.com   \n",
       "130                   https://www.technologyreview.com   \n",
       "131       https://www.hindustantimes.com/entertainment   \n",
       "\n",
       "                                     short_description       date  \n",
       "0    The young Indian batter made a playful remark ... 2024-12-05  \n",
       "1    Former captain Ricky Ponting suggested Jaiswal... 2024-12-11  \n",
       "2    XAT 2025 scheduled for January 5, 2025, with a... 2024-12-12  \n",
       "3    The WHO reports a global rise in obesity rates... 2024-12-12  \n",
       "4    The WHO advises the use of updated COVID-19 va... 2024-12-10  \n",
       "..                                                 ...        ...  \n",
       "127  Aktu sees a surge in applications for engineer... 2024-12-11  \n",
       "128  Xreal and Asus launch cost-effective AR/VR dev... 2024-12-06  \n",
       "129  The use of AI in entertainment reaches new hei... 2024-12-06  \n",
       "130  An AI system achieves top 1% performance in cr... 2024-12-11  \n",
       "131  AC/DC reveals tour dates for a much-anticipate... 2024-12-02  \n",
       "\n",
       "[132 rows x 7 columns]"
      ]
     },
     "execution_count": 12,
     "metadata": {},
     "output_type": "execute_result"
    }
   ],
   "source": [
    "raw_df.reset_index(inplace = True)\n",
    "raw_df"
   ]
  },
  {
   "cell_type": "markdown",
   "id": "a7fe5789",
   "metadata": {},
   "source": [
    "#### Removing all the short headline articles"
   ]
  },
  {
   "cell_type": "code",
   "execution_count": 13,
   "id": "0b9e5625",
   "metadata": {},
   "outputs": [
    {
     "data": {
      "text/plain": [
       "CRICKET          18\n",
       "EDUCATION        17\n",
       "SPORTS           15\n",
       "POLITICS         15\n",
       "ENTERTAINMENT    14\n",
       "TECHNOLOGY        9\n",
       "ENVIRONMENT       8\n",
       "CRIME             8\n",
       "HEALTH            6\n",
       "SCIENCE           6\n",
       "COVID             5\n",
       "ELECTION          5\n",
       "WORLD NEWS        2\n",
       "US NEWS           2\n",
       "FOOTBALL          1\n",
       "BASKETBALL        1\n",
       "Name: category, dtype: int64"
      ]
     },
     "execution_count": 13,
     "metadata": {},
     "output_type": "execute_result"
    }
   ],
   "source": [
    "counts = raw_df.category.value_counts()\n",
    "counts"
   ]
  },
  {
   "cell_type": "code",
   "execution_count": 14,
   "id": "b5d315a7",
   "metadata": {},
   "outputs": [
    {
     "name": "stdout",
     "output_type": "stream",
     "text": [
      "Total number of articles after removing headlines with fewer than 5 words: 130\n"
     ]
    }
   ],
   "source": [
    "raw_df = raw_df[raw_df['headline'].str.split().apply(len) > 5]\n",
    "total_articles = len(raw_df)\n",
    "print(\"Total number of articles after removing headlines with fewer than 5 words:\", total_articles)"
   ]
  },
  {
   "cell_type": "code",
   "execution_count": 15,
   "id": "c28d5085",
   "metadata": {},
   "outputs": [
    {
     "data": {
      "text/plain": [
       "0             SPORTS\n",
       "1            CRICKET\n",
       "2          EDUCATION\n",
       "3             HEALTH\n",
       "4              COVID\n",
       "           ...      \n",
       "126        EDUCATION\n",
       "127        EDUCATION\n",
       "128       TECHNOLOGY\n",
       "129    ENTERTAINMENT\n",
       "131    ENTERTAINMENT\n",
       "Name: category, Length: 130, dtype: object"
      ]
     },
     "execution_count": 15,
     "metadata": {},
     "output_type": "execute_result"
    }
   ],
   "source": [
    "raw_df['category']"
   ]
  },
  {
   "cell_type": "markdown",
   "id": "be21d1a4",
   "metadata": {},
   "source": [
    "## Data Visualization"
   ]
  },
  {
   "cell_type": "code",
   "execution_count": 16,
   "id": "206df8a1",
   "metadata": {},
   "outputs": [
    {
     "data": {
      "image/png": "[encoded data removed]",
      "text/plain": [
       "<Figure size 1100x700 with 1 Axes>"
      ]
     },
     "metadata": {},
     "output_type": "display_data"
    }
   ],
   "source": [
    "category_counts = raw_df[\"category\"].value_counts()\n",
    "\n",
    "plt.figure(figsize=(11, 7))\n",
    "plt.bar(category_counts.index, category_counts.values)\n",
    "plt.title(\"Distribution of articles category-wise\")\n",
    "plt.xlabel(\"Category name\")\n",
    "plt.ylabel(\"Number of articles\")\n",
    "plt.xticks(rotation=70)\n",
    "plt.show()"
   ]
  },
  {
   "cell_type": "code",
   "execution_count": 17,
   "id": "7b622c37",
   "metadata": {},
   "outputs": [
    {
     "data": {
      "text/plain": [
       "12    130\n",
       "Name: date, dtype: int64"
      ]
     },
     "execution_count": 17,
     "metadata": {},
     "output_type": "execute_result"
    }
   ],
   "source": [
    "news_articles_per_month = raw_df['date'].dt.month.value_counts().sort_index()\n",
    "news_articles_per_month\n"
   ]
  },
  {
   "cell_type": "code",
   "execution_count": 18,
   "id": "90b0fbba",
   "metadata": {},
   "outputs": [
    {
     "data": {
      "image/png": "[encoded data removed]",
      "text/plain": [
       "<Figure size 500x500 with 1 Axes>"
      ]
     },
     "metadata": {},
     "output_type": "display_data"
    }
   ],
   "source": [
    "news_articles_per_month.plot(kind='bar', figsize=(5, 5))\n",
    "plt.title(\"Distribution of articles month-wise\")\n",
    "plt.xlabel(\"Month\")\n",
    "plt.ylabel(\"Number of articles\")\n",
    "plt.show()"
   ]
  },
  {
   "cell_type": "code",
   "execution_count": 19,
   "id": "cec4142a",
   "metadata": {},
   "outputs": [
    {
     "name": "stderr",
     "output_type": "stream",
     "text": [
      "C:\\Users\\shiva\\AppData\\Local\\Temp\\ipykernel_18324\\3671882502.py:1: SettingWithCopyWarning: \n",
      "A value is trying to be set on a copy of a slice from a DataFrame.\n",
      "Try using .loc[row_indexer,col_indexer] = value instead\n",
      "\n",
      "See the caveats in the documentation: https://pandas.pydata.org/pandas-docs/stable/user_guide/indexing.html#returning-a-view-versus-a-copy\n",
      "  raw_df['date'] = pd.to_datetime(raw_df['date'])\n"
     ]
    },
    {
     "data": {
      "image/png": "[encoded data removed]",
      "text/plain": [
       "<Figure size 1000x500 with 1 Axes>"
      ]
     },
     "metadata": {},
     "output_type": "display_data"
    }
   ],
   "source": [
    "raw_df['date'] = pd.to_datetime(raw_df['date'])\n",
    "\n",
    "# Group by day and count the number of articles\n",
    "articles_per_day = raw_df.groupby(raw_df['date'].dt.date).size()\n",
    "\n",
    "# Plot the distribution day-wise\n",
    "plt.figure(figsize=(10, 5))\n",
    "articles_per_day.plot(kind='bar', color='skyblue')\n",
    "plt.title(\"Distribution of articles day-wise\")\n",
    "plt.xlabel(\"Day\")\n",
    "plt.ylabel(\"Number of articles\")\n",
    "plt.xticks(rotation=45)\n",
    "plt.show()"
   ]
  },
  {
   "cell_type": "code",
   "execution_count": 20,
   "id": "12c07b2e",
   "metadata": {},
   "outputs": [],
   "source": [
    "raw_df_temp = raw_df.copy()"
   ]
  },
  {
   "cell_type": "code",
   "execution_count": 21,
   "id": "d725f0ae",
   "metadata": {},
   "outputs": [
    {
     "name": "stdout",
     "output_type": "stream",
     "text": [
      "0\n"
     ]
    }
   ],
   "source": [
    "# Set of stopwords in English\n",
    "stop_words = set(stopwords.words('english'))\n",
    "\n",
    "# Loop through each headline in the DataFrame\n",
    "for i, headline in enumerate(raw_df_temp[\"headline\"]):\n",
    "    processed_words = []\n",
    "    \n",
    "    # Split the headline into individual words\n",
    "    for word in headline.split():\n",
    "        # Remove punctuation and convert to lowercase\n",
    "        word = ''.join(e for e in word if e.isalnum())\n",
    "        word = word.lower()\n",
    "        \n",
    "        # Check if word is not a stopword\n",
    "        if word not in stop_words:\n",
    "            processed_words.append(word)\n",
    "    \n",
    "    # Join the processed words and assign back to the DataFrame\n",
    "    raw_df_temp.at[i, \"headline\"] = ' '.join(processed_words)\n",
    "    \n",
    "    # Print progress every 1000 iterations\n",
    "    if i % 1000 == 0:\n",
    "        print(i)\n"
   ]
  },
  {
   "cell_type": "markdown",
   "id": "b7deea40",
   "metadata": {},
   "source": [
    "#### Lemmatization"
   ]
  },
  {
   "cell_type": "code",
   "execution_count": 22,
   "id": "aa67f75c",
   "metadata": {},
   "outputs": [
    {
     "name": "stderr",
     "output_type": "stream",
     "text": [
      "[nltk_data] Downloading package punkt to\n",
      "[nltk_data]     C:\\Users\\shiva\\AppData\\Roaming\\nltk_data...\n",
      "[nltk_data]   Package punkt is already up-to-date!\n",
      "[nltk_data] Downloading package wordnet to\n",
      "[nltk_data]     C:\\Users\\shiva\\AppData\\Roaming\\nltk_data...\n",
      "[nltk_data]   Package wordnet is already up-to-date!\n",
      "[nltk_data] Downloading package omw-1.4 to\n",
      "[nltk_data]     C:\\Users\\shiva\\AppData\\Roaming\\nltk_data...\n",
      "[nltk_data]   Package omw-1.4 is already up-to-date!\n"
     ]
    },
    {
     "name": "stdout",
     "output_type": "stream",
     "text": [
      "0\n"
     ]
    }
   ],
   "source": [
    "import nltk\n",
    "nltk.download('punkt')\n",
    "nltk.download('wordnet')\n",
    "nltk.download('omw-1.4')\n",
    "\n",
    "lemmatizer = WordNetLemmatizer()\n",
    "\n",
    "for i in range(len(raw_df_temp[\"headline\"])):\n",
    "    if i in raw_df_temp.index:\n",
    "        string = \"\"\n",
    "        for w in word_tokenize(raw_df_temp[\"headline\"][i]):\n",
    "            string += lemmatizer.lemmatize(w, pos=\"v\") + \" \"\n",
    "        raw_df_temp.at[i, \"headline\"] = string.strip()\n",
    "    if i % 1000 == 0:\n",
    "        print(i)\n"
   ]
  },
  {
   "cell_type": "markdown",
   "id": "d1e43ee8",
   "metadata": {},
   "source": [
    "## TF-IDF method"
   ]
  },
  {
   "cell_type": "code",
   "execution_count": 23,
   "id": "35aea267",
   "metadata": {},
   "outputs": [
    {
     "name": "stdout",
     "output_type": "stream",
     "text": [
      "Requirement already satisfied: scikit-learn in c:\\users\\shiva\\anaconda3\\lib\\site-packages (1.0.2)\n",
      "Requirement already satisfied: numpy>=1.14.6 in c:\\users\\shiva\\anaconda3\\lib\\site-packages (from scikit-learn) (1.24.4)\n",
      "Requirement already satisfied: scipy>=1.1.0 in c:\\users\\shiva\\anaconda3\\lib\\site-packages (from scikit-learn) (1.9.1)\n",
      "Requirement already satisfied: joblib>=0.11 in c:\\users\\shiva\\anaconda3\\lib\\site-packages (from scikit-learn) (1.1.0)\n",
      "Requirement already satisfied: threadpoolctl>=2.0.0 in c:\\users\\shiva\\anaconda3\\lib\\site-packages (from scikit-learn) (2.2.0)\n"
     ]
    },
    {
     "name": "stderr",
     "output_type": "stream",
     "text": [
      "\n",
      "[notice] A new release of pip is available: 23.2.1 -> 25.1.1\n",
      "[notice] To update, run: python.exe -m pip install --upgrade pip\n"
     ]
    }
   ],
   "source": [
    "!pip install scikit-learn\n",
    "\n",
    "tfidf_headline_vectorizer = TfidfVectorizer(min_df = 0)\n",
    "tfidf_headline_features = tfidf_headline_vectorizer.fit_transform(raw_df_temp['headline'])"
   ]
  },
  {
   "cell_type": "code",
   "execution_count": 24,
   "id": "c290433f",
   "metadata": {},
   "outputs": [
    {
     "name": "stdout",
     "output_type": "stream",
     "text": [
      "============================== Queried article details ==============================\n",
      "headline: Yashasvi Jaiswal's Sledge Leaves Nathan Lyon Surprised\n",
      "\n",
      " ========================= Recommended articles =======================\n"
     ]
    },
    {
     "data": {
      "text/html": [
       "<div>\n",
       "<style scoped>\n",
       "    .dataframe tbody tr th:only-of-type {\n",
       "        vertical-align: middle;\n",
       "    }\n",
       "\n",
       "    .dataframe tbody tr th {\n",
       "        vertical-align: top;\n",
       "    }\n",
       "\n",
       "    .dataframe thead th {\n",
       "        text-align: right;\n",
       "    }\n",
       "</style>\n",
       "<table border=\"1\" class=\"dataframe\">\n",
       "  <thead>\n",
       "    <tr style=\"text-align: right;\">\n",
       "      <th></th>\n",
       "      <th>date</th>\n",
       "      <th>headline</th>\n",
       "    </tr>\n",
       "  </thead>\n",
       "  <tbody>\n",
       "    <tr>\n",
       "      <th>0</th>\n",
       "      <td>2024-12-05</td>\n",
       "      <td>Yashasvi Jaiswal's Sledge Leaves Nathan Lyon S...</td>\n",
       "    </tr>\n",
       "    <tr>\n",
       "      <th>98</th>\n",
       "      <td>2024-12-11</td>\n",
       "      <td>Cancer Survivors Experience Long-Term Mental H...</td>\n",
       "    </tr>\n",
       "    <tr>\n",
       "      <th>62</th>\n",
       "      <td>2024-12-03</td>\n",
       "      <td>Mithali Raj Reflects on Pressure to Quit Crick...</td>\n",
       "    </tr>\n",
       "    <tr>\n",
       "      <th>118</th>\n",
       "      <td>2024-12-04</td>\n",
       "      <td>Ariana Grande Gets Emotional Over Glinda’s Wan...</td>\n",
       "    </tr>\n",
       "    <tr>\n",
       "      <th>6</th>\n",
       "      <td>2024-12-10</td>\n",
       "      <td>Voter Turnout Breaks Records in Midterm Electi...</td>\n",
       "    </tr>\n",
       "    <tr>\n",
       "      <th>86</th>\n",
       "      <td>2024-12-11</td>\n",
       "      <td>Google Pixel 8 Pro Officially Unveiled with Ad...</td>\n",
       "    </tr>\n",
       "    <tr>\n",
       "      <th>88</th>\n",
       "      <td>2024-12-12</td>\n",
       "      <td>Global Leaders Push for Tax Reforms to Close W...</td>\n",
       "    </tr>\n",
       "    <tr>\n",
       "      <th>89</th>\n",
       "      <td>2024-12-11</td>\n",
       "      <td>Global COVID-19 Vaccine Booster Campaign Faces...</td>\n",
       "    </tr>\n",
       "    <tr>\n",
       "      <th>53</th>\n",
       "      <td>2024-12-12</td>\n",
       "      <td>New Study Finds Link Between Poor Sleep and In...</td>\n",
       "    </tr>\n",
       "    <tr>\n",
       "      <th>51</th>\n",
       "      <td>2024-12-12</td>\n",
       "      <td>New Study Reveals Quantum Computing Breakthrou...</td>\n",
       "    </tr>\n",
       "    <tr>\n",
       "      <th>49</th>\n",
       "      <td>2024-12-12</td>\n",
       "      <td>Opposition Parties Demand Investigation into R...</td>\n",
       "    </tr>\n",
       "  </tbody>\n",
       "</table>\n",
       "</div>"
      ],
      "text/plain": [
       "          date                                           headline\n",
       "0   2024-12-05  Yashasvi Jaiswal's Sledge Leaves Nathan Lyon S...\n",
       "98  2024-12-11  Cancer Survivors Experience Long-Term Mental H...\n",
       "62  2024-12-03  Mithali Raj Reflects on Pressure to Quit Crick...\n",
       "118 2024-12-04  Ariana Grande Gets Emotional Over Glinda’s Wan...\n",
       "6   2024-12-10  Voter Turnout Breaks Records in Midterm Electi...\n",
       "86  2024-12-11  Google Pixel 8 Pro Officially Unveiled with Ad...\n",
       "88  2024-12-12  Global Leaders Push for Tax Reforms to Close W...\n",
       "89  2024-12-11  Global COVID-19 Vaccine Booster Campaign Faces...\n",
       "53  2024-12-12  New Study Finds Link Between Poor Sleep and In...\n",
       "51  2024-12-12  New Study Reveals Quantum Computing Breakthrou...\n",
       "49  2024-12-12  Opposition Parties Demand Investigation into R..."
      ]
     },
     "execution_count": 24,
     "metadata": {},
     "output_type": "execute_result"
    }
   ],
   "source": [
    "def tfidf_based_model(row_index, num_similar_items):\n",
    "    couple_dist = pairwise_distances(tfidf_headline_features, tfidf_headline_features[row_index])\n",
    "    indices = np.argsort(couple_dist.ravel())[1:num_similar_items+1]\n",
    "    \n",
    "    recommended_articles = raw_df.iloc[indices][[\"date\", \"headline\"]]\n",
    "    queried_article_headline = raw_df[\"headline\"].iloc[indices[0]]\n",
    "    \n",
    "    print(\"=\"*30, \"Queried article details\", \"=\"*30)\n",
    "    print('headline:', queried_article_headline)\n",
    "    print(\"\\n\", \"=\"*25, \"Recommended articles\", \"=\"*23)\n",
    "    \n",
    "    return recommended_articles\n",
    "\n",
    "tfidf_based_model(1, 11)"
   ]
  },
  {
   "cell_type": "code",
   "execution_count": 25,
   "id": "46316599",
   "metadata": {},
   "outputs": [
    {
     "name": "stdout",
     "output_type": "stream",
     "text": [
      "Enter a headline or keywords to search for similar articles: ipl\n",
      "============================== Queried Article ==============================\n",
      "Headline: Rohit Sharma Leads Mumbai Indians to IPL 2024 Victory\n",
      "Link: https://www.cricbuzz.com/rohit-sharma-mumbai-indians-ipl-victory-2024\n",
      "\n",
      " ========================= Recommended Articles =======================\n",
      "                                                                headline                                                                  link\n",
      "    Mumbai Indians Acquire Nuwan Thushara for ₹4.8 Crores in IPL Auction                                                https://www.wisden.com\n",
      "IPL 2024: Chennai Super Kings Clinch Championship with Last-Over Victory        https://www.sportstar.com/ipl-2024-chennai-super-kings-victory\n",
      "             IPL 2024 Auction Sees Record-Breaking Bids for Young Talent https://www.sportskeeda.com/ipl/2024-auction-record-bids-young-talent\n",
      "                                       Moana 2 Breaks Box Office Records                         https://www.showtimes.com/news/2024-december/\n",
      "                              Phishing Scams Surge During Holiday Season                                             https://www.techradar.com\n"
     ]
    },
    {
     "data": {
      "text/html": [
       "<div>\n",
       "<style scoped>\n",
       "    .dataframe tbody tr th:only-of-type {\n",
       "        vertical-align: middle;\n",
       "    }\n",
       "\n",
       "    .dataframe tbody tr th {\n",
       "        vertical-align: top;\n",
       "    }\n",
       "\n",
       "    .dataframe thead th {\n",
       "        text-align: right;\n",
       "    }\n",
       "</style>\n",
       "<table border=\"1\" class=\"dataframe\">\n",
       "  <thead>\n",
       "    <tr style=\"text-align: right;\">\n",
       "      <th></th>\n",
       "      <th>headline</th>\n",
       "      <th>link</th>\n",
       "    </tr>\n",
       "  </thead>\n",
       "  <tbody>\n",
       "    <tr>\n",
       "      <th>60</th>\n",
       "      <td>Mumbai Indians Acquire Nuwan Thushara for ₹4.8...</td>\n",
       "      <td>https://www.wisden.com</td>\n",
       "    </tr>\n",
       "    <tr>\n",
       "      <th>79</th>\n",
       "      <td>IPL 2024: Chennai Super Kings Clinch Champions...</td>\n",
       "      <td>https://www.sportstar.com/ipl-2024-chennai-sup...</td>\n",
       "    </tr>\n",
       "    <tr>\n",
       "      <th>80</th>\n",
       "      <td>IPL 2024 Auction Sees Record-Breaking Bids for...</td>\n",
       "      <td>https://www.sportskeeda.com/ipl/2024-auction-r...</td>\n",
       "    </tr>\n",
       "    <tr>\n",
       "      <th>61</th>\n",
       "      <td>Moana 2 Breaks Box Office Records</td>\n",
       "      <td>https://www.showtimes.com/news/2024-december/</td>\n",
       "    </tr>\n",
       "    <tr>\n",
       "      <th>47</th>\n",
       "      <td>Phishing Scams Surge During Holiday Season</td>\n",
       "      <td>https://www.techradar.com</td>\n",
       "    </tr>\n",
       "  </tbody>\n",
       "</table>\n",
       "</div>"
      ],
      "text/plain": [
       "                                             headline  \\\n",
       "60  Mumbai Indians Acquire Nuwan Thushara for ₹4.8...   \n",
       "79  IPL 2024: Chennai Super Kings Clinch Champions...   \n",
       "80  IPL 2024 Auction Sees Record-Breaking Bids for...   \n",
       "61                  Moana 2 Breaks Box Office Records   \n",
       "47         Phishing Scams Surge During Holiday Season   \n",
       "\n",
       "                                                 link  \n",
       "60                             https://www.wisden.com  \n",
       "79  https://www.sportstar.com/ipl-2024-chennai-sup...  \n",
       "80  https://www.sportskeeda.com/ipl/2024-auction-r...  \n",
       "61      https://www.showtimes.com/news/2024-december/  \n",
       "47                          https://www.techradar.com  "
      ]
     },
     "execution_count": 25,
     "metadata": {},
     "output_type": "execute_result"
    }
   ],
   "source": [
    "# Ensure the dataset has the necessary columns\n",
    "if 'headline' not in raw_df.columns or 'link' not in raw_df.columns:\n",
    "    raise ValueError(\"Dataset must include 'headline' and 'link' columns.\")\n",
    "\n",
    "# TF-IDF Vectorization\n",
    "vectorizer = TfidfVectorizer(stop_words='english')\n",
    "tfidf_matrix = vectorizer.fit_transform(raw_df['headline'])\n",
    "\n",
    "def recommend_articles(user_input, num_similar_items=5):\n",
    "    # Transform the user input to match the TF-IDF matrix space\n",
    "    user_input_tfidf = vectorizer.transform([user_input])\n",
    "    \n",
    "    # Compute similarity with all headlines in the dataset\n",
    "    similarities = cosine_similarity(user_input_tfidf, tfidf_matrix).flatten()\n",
    "    \n",
    "    # Get indices of the most similar articles\n",
    "    similar_indices = similarities.argsort()[-(num_similar_items+1):][::-1]  # Top N + 1 (including the input article)\n",
    "    \n",
    "    # Fetch similar articles\n",
    "    recommended_articles = raw_df.iloc[similar_indices[1:num_similar_items+1]][[\"headline\", \"link\"]]\n",
    "    queried_article = raw_df.iloc[similar_indices[0]]  # Most similar article (user's input match)\n",
    "\n",
    "    print(\"=\" * 30, \"Queried Article\", \"=\" * 30)\n",
    "    print(\"Headline:\", queried_article['headline'])\n",
    "    print(\"Link:\", queried_article['link'])\n",
    "    print(\"\\n\", \"=\" * 25, \"Recommended Articles\", \"=\" * 23)\n",
    "    print(recommended_articles.to_string(index=False))\n",
    "\n",
    "    return recommended_articles\n",
    "\n",
    "# Take user input and call the recommendation function\n",
    "user_input = input(\"Enter a headline or keywords to search for similar articles: \")\n",
    "recommend_articles(user_input, num_similar_items=5)\n"
   ]
  },
  {
   "cell_type": "code",
   "execution_count": 28,
   "id": "72024e5f",
   "metadata": {},
   "outputs": [
    {
     "name": "stdout",
     "output_type": "stream",
     "text": [
      "Available categories: ['WORLD NEWS' 'US NEWS' 'POLITICS' 'ENTERTAINMENT' 'ENVIRONMENT' 'CRIME'\n",
      " 'TECHNOLOGY' 'SCIENCE' 'HEALTH' 'CRICKET' 'FOOTBALL' 'BASKETBALL'\n",
      " 'SPORTS' 'EDUCATION' 'COVID' 'ELECTION']\n",
      "Choose categories you're interested in (comma-separated, e.g., Sports, Technology, Health): health\n",
      "============================== Recommended Articles ==============================\n",
      "                                                                   headline                                                                                         link\n",
      "New Study Finds Link Between Poor Sleep and Increased Risk of Heart Disease         https://www.thelancet.com/journals/lancet/article/PIIS0140-6736(24)XXXXXX-8/fulltext\n",
      "   Scientists Identify Gene Linked to Increased Risk of Alzheimer’s Disease               https://www.nih.gov/news-events/news-releases/gene-linked-alzheimers-risk-2024\n",
      "Cancer Survivors Experience Long-Term Mental Health Challenges, Study Finds                   https://www.jco.org/article/cancer-survivors-mental-health-challenges-2024\n",
      "        World Health Organization Warns of Rising Cases of Obesity Globally                         https://www.who.int/news/item/12-12-2024-obesity-global-rise-warning\n",
      "       FDA Approves New Drug for Severe Asthma, Providing Hope for Patients https://www.fda.gov/news-events/press-announcements/fda-approves-new-severe-asthma-drug-2024\n"
     ]
    },
    {
     "data": {
      "text/html": [
       "<div>\n",
       "<style scoped>\n",
       "    .dataframe tbody tr th:only-of-type {\n",
       "        vertical-align: middle;\n",
       "    }\n",
       "\n",
       "    .dataframe tbody tr th {\n",
       "        vertical-align: top;\n",
       "    }\n",
       "\n",
       "    .dataframe thead th {\n",
       "        text-align: right;\n",
       "    }\n",
       "</style>\n",
       "<table border=\"1\" class=\"dataframe\">\n",
       "  <thead>\n",
       "    <tr style=\"text-align: right;\">\n",
       "      <th></th>\n",
       "      <th>headline</th>\n",
       "      <th>link</th>\n",
       "    </tr>\n",
       "  </thead>\n",
       "  <tbody>\n",
       "    <tr>\n",
       "      <th>97</th>\n",
       "      <td>New Study Finds Link Between Poor Sleep and In...</td>\n",
       "      <td>https://www.thelancet.com/journals/lancet/arti...</td>\n",
       "    </tr>\n",
       "    <tr>\n",
       "      <th>101</th>\n",
       "      <td>Scientists Identify Gene Linked to Increased R...</td>\n",
       "      <td>https://www.nih.gov/news-events/news-releases/...</td>\n",
       "    </tr>\n",
       "    <tr>\n",
       "      <th>100</th>\n",
       "      <td>Cancer Survivors Experience Long-Term Mental H...</td>\n",
       "      <td>https://www.jco.org/article/cancer-survivors-m...</td>\n",
       "    </tr>\n",
       "    <tr>\n",
       "      <th>98</th>\n",
       "      <td>World Health Organization Warns of Rising Case...</td>\n",
       "      <td>https://www.who.int/news/item/12-12-2024-obesi...</td>\n",
       "    </tr>\n",
       "    <tr>\n",
       "      <th>99</th>\n",
       "      <td>FDA Approves New Drug for Severe Asthma, Provi...</td>\n",
       "      <td>https://www.fda.gov/news-events/press-announce...</td>\n",
       "    </tr>\n",
       "  </tbody>\n",
       "</table>\n",
       "</div>"
      ],
      "text/plain": [
       "                                              headline  \\\n",
       "97   New Study Finds Link Between Poor Sleep and In...   \n",
       "101  Scientists Identify Gene Linked to Increased R...   \n",
       "100  Cancer Survivors Experience Long-Term Mental H...   \n",
       "98   World Health Organization Warns of Rising Case...   \n",
       "99   FDA Approves New Drug for Severe Asthma, Provi...   \n",
       "\n",
       "                                                  link  \n",
       "97   https://www.thelancet.com/journals/lancet/arti...  \n",
       "101  https://www.nih.gov/news-events/news-releases/...  \n",
       "100  https://www.jco.org/article/cancer-survivors-m...  \n",
       "98   https://www.who.int/news/item/12-12-2024-obesi...  \n",
       "99   https://www.fda.gov/news-events/press-announce...  "
      ]
     },
     "execution_count": 28,
     "metadata": {},
     "output_type": "execute_result"
    }
   ],
   "source": [
    "# import pandas as pd\n",
    "# import matplotlib.pyplot as plt\n",
    "# from sklearn.feature_extraction.text import TfidfVectorizer\n",
    "# from sklearn.metrics.pairwise import cosine_similarity\n",
    "\n",
    "# Load the JSON dataset\n",
    "raw_df = pd.read_json(\"News_Category_Dataset_v2.json\")\n",
    "\n",
    "# Ensure necessary columns\n",
    "required_columns = ['category', 'headline', 'link']\n",
    "for col in required_columns:\n",
    "    if col not in raw_df.columns:\n",
    "        raise ValueError(f\"Dataset must include the following columns: {', '.join(required_columns)}\")\n",
    "\n",
    "# Function to recommend articles based on user-selected categories\n",
    "def recommend_articles_by_categories(user_categories, num_similar_items=5):\n",
    "    user_categories = [category.strip() for category in user_categories.split(',')]\n",
    "    filtered_articles = pd.DataFrame()\n",
    "    \n",
    "    for category in user_categories:\n",
    "        filtered_df = raw_df[raw_df['category'].str.contains(category, case=False, na=False)]\n",
    "        filtered_articles = pd.concat([filtered_articles, filtered_df])\n",
    "    \n",
    "    if filtered_articles.empty:\n",
    "        print(f\"No articles found for the categories: {', '.join(user_categories)}. Please try different categories.\")\n",
    "        return\n",
    "    \n",
    "    # TF-IDF Vectorization for the combined dataset\n",
    "    vectorizer = TfidfVectorizer(stop_words='english')\n",
    "    tfidf_matrix = vectorizer.fit_transform(filtered_articles['headline'])\n",
    "    \n",
    "    # Compute similarity with all headlines in the combined dataset\n",
    "    similarities = cosine_similarity(tfidf_matrix, tfidf_matrix).mean(axis=1)\n",
    "    \n",
    "    # Get indices of the most similar articles\n",
    "    similar_indices = similarities.argsort()[-num_similar_items:][::-1]\n",
    "    \n",
    "    # Fetch recommended articles\n",
    "    recommended_articles = filtered_articles.iloc[similar_indices][[\"headline\", \"link\"]]\n",
    "    \n",
    "    print(\"=\" * 30, \"Recommended Articles\", \"=\" * 30)\n",
    "    print(recommended_articles.to_string(index=False))\n",
    "    return recommended_articles\n",
    "\n",
    "# Display available categories to the user\n",
    "print(\"Available categories:\", raw_df['category'].unique())\n",
    "\n",
    "# User selects multiple categories\n",
    "user_input = input(\"Choose categories you're interested in (comma-separated, e.g., Sports, Technology, Health): \")\n",
    "\n",
    "# Recommend articles based on the chosen categories\n",
    "recommend_articles_by_categories(user_input)\n"
   ]
  },
  {
   "cell_type": "code",
   "execution_count": null,
   "id": "b0199ea9",
   "metadata": {},
   "outputs": [],
   "source": []
  },
  {
   "cell_type": "code",
   "execution_count": null,
   "id": "a43e008a",
   "metadata": {},
   "outputs": [],
   "source": []
  }
 ],
 "metadata": {
  "kernelspec": {
   "display_name": "Python 3 (ipykernel)",
   "language": "python",
   "name": "python3"
  },
  "language_info": {
   "codemirror_mode": {
    "name": "ipython",
    "version": 3
   },
   "file_extension": ".py",
   "mimetype": "text/x-python",
   "name": "python",
   "nbconvert_exporter": "python",
   "pygments_lexer": "ipython3",
   "version": "3.9.13"
  }
 },
 "nbformat": 4,
 "nbformat_minor": 5
}
